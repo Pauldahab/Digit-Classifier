{
 "cells": [
  {
   "cell_type": "code",
   "execution_count": 1,
   "id": "3d44fdfa",
   "metadata": {},
   "outputs": [],
   "source": [
    "import torch\n",
    "import torchvision\n",
    "from torchvision import transforms , datasets\n",
    "import matplotlib.pyplot as plt"
   ]
  },
  {
   "cell_type": "code",
   "execution_count": 2,
   "id": "bc1c139e",
   "metadata": {},
   "outputs": [],
   "source": [
    "train = datasets.MNIST(\"\",train=True,download=True,\n",
    "                        transform=transforms.Compose([transforms.ToTensor()]))\n",
    "test = datasets.MNIST(\"\",train=False,download=True,\n",
    "                        transform=transforms.Compose([transforms.ToTensor()]))\n"
   ]
  },
  {
   "cell_type": "code",
   "execution_count": 3,
   "id": "97ad3cd8",
   "metadata": {},
   "outputs": [],
   "source": [
    "train_set=torch.utils.data.DataLoader(train,batch_size=10,shuffle=True)\n",
    "test_set=torch.utils.data.DataLoader(test,batch_size=10,shuffle=True)"
   ]
  },
  {
   "cell_type": "code",
   "execution_count": 4,
   "id": "7a4bd3ce",
   "metadata": {},
   "outputs": [],
   "source": [
    "import torch.nn as nn\n",
    "import torch.nn.functional as F "
   ]
  },
  {
   "cell_type": "code",
   "execution_count": 5,
   "id": "c053a192",
   "metadata": {},
   "outputs": [
    {
     "name": "stdout",
     "output_type": "stream",
     "text": [
      "Net(\n",
      "  (fc1): Linear(in_features=784, out_features=64, bias=True)\n",
      "  (fc2): Linear(in_features=64, out_features=64, bias=True)\n",
      "  (fc3): Linear(in_features=64, out_features=64, bias=True)\n",
      "  (fc4): Linear(in_features=64, out_features=10, bias=True)\n",
      ")\n"
     ]
    }
   ],
   "source": [
    "class Net(nn.Module):\n",
    "    def __init__(self):\n",
    "        super().__init__()\n",
    "        self.fc1=nn.Linear(28*28,64)\n",
    "        self.fc2=nn.Linear(64,64)\n",
    "        self.fc3=nn.Linear(64,64)\n",
    "        self.fc4=nn.Linear(64,10)\n",
    "    def forward(self,x):\n",
    "        x=F.relu(self.fc1(x))\n",
    "        x=F.relu(self.fc2(x))\n",
    "        x=F.relu(self.fc3(x))\n",
    "        x=self.fc4(x)\n",
    "        \n",
    "        return F.log_softmax(x,dim=1)\n",
    "        \n",
    "        \n",
    "        \n",
    "net=Net()\n",
    "print(net)"
   ]
  },
  {
   "cell_type": "code",
   "execution_count": 6,
   "id": "f3280f6f",
   "metadata": {},
   "outputs": [
    {
     "name": "stdout",
     "output_type": "stream",
     "text": [
      "tensor(0.1721, grad_fn=<NllLossBackward0>)\n",
      "tensor(0.0748, grad_fn=<NllLossBackward0>)\n",
      "tensor(0.0520, grad_fn=<NllLossBackward0>)\n"
     ]
    }
   ],
   "source": [
    "import torch.optim as optim\n",
    "#                    hon ktabna hek laan for ex bel transfer learning iza\n",
    "#                    ekhdin pretrained model w bdna nestaamlo to predict\n",
    "#                    shi tene fina ma naadil b awal kam layer laano ha \n",
    "#                    ykouno ktir mneh bas lezim naadil ekhir kam layer\n",
    "#                    ta yaatuna  l output l bdna yeha \n",
    "#                    ***************\n",
    "optimizer=optim.Adam(net.parameters(),lr=0.001)\n",
    "EPOCHS=3\n",
    "for epoch in range(EPOCHS):\n",
    "    for data in train_set:\n",
    "        X,y=data\n",
    "        net.zero_grad()#when we are training our model we set some unnecessary info = 0 to finsih faster\n",
    "        output=net(X.view(-1,28*28))\n",
    "        loss = F.nll_loss(output,y)#laano to calculate the loss , our vector isnt a one hot vector(ex:[0,0,1])\n",
    "        loss.backward()#In fitting a neural network, backpropagation computes the gradient of the loss function with\n",
    "        #respect to the weights of the network for a single input–output example, and does so efficiently,\n",
    "        # unlike a naive direct computation of the gradient with respect to each weight individually.\n",
    "        optimizer.step()#this adjust the weights\n",
    "    print(loss)"
   ]
  },
  {
   "cell_type": "code",
   "execution_count": null,
   "id": "4ab11d14",
   "metadata": {},
   "outputs": [],
   "source": [
    "\n",
    "plt.imshow(X[0].view(28,28))\n",
    "plt.show()"
   ]
  },
  {
   "cell_type": "code",
   "execution_count": 4,
   "id": "f255ec3c",
   "metadata": {},
   "outputs": [
    {
     "ename": "NameError",
     "evalue": "name 'train_set' is not defined",
     "output_type": "error",
     "traceback": [
      "\u001b[1;31m---------------------------------------------------------------------------\u001b[0m",
      "\u001b[1;31mNameError\u001b[0m                                 Traceback (most recent call last)",
      "Cell \u001b[1;32mIn[4], line 4\u001b[0m\n\u001b[0;32m      2\u001b[0m total \u001b[38;5;241m=\u001b[39m \u001b[38;5;241m0\u001b[39m \n\u001b[0;32m      3\u001b[0m \u001b[38;5;28;01mwith\u001b[39;00m torch\u001b[38;5;241m.\u001b[39mno_grad():\n\u001b[1;32m----> 4\u001b[0m     \u001b[38;5;28;01mfor\u001b[39;00m data \u001b[38;5;129;01min\u001b[39;00m \u001b[43mtrain_set\u001b[49m:\n\u001b[0;32m      5\u001b[0m         X,y\u001b[38;5;241m=\u001b[39mdata\n\u001b[0;32m      6\u001b[0m         output\u001b[38;5;241m=\u001b[39mnet(X\u001b[38;5;241m.\u001b[39mview(\u001b[38;5;241m-\u001b[39m\u001b[38;5;241m1\u001b[39m,\u001b[38;5;241m784\u001b[39m))\n",
      "\u001b[1;31mNameError\u001b[0m: name 'train_set' is not defined"
     ]
    }
   ],
   "source": [
    "correct = 0 \n",
    "total = 0 \n",
    "with torch.no_grad():\n",
    "    for data in train_set:\n",
    "        X,y=data\n",
    "        output=net(X.view(-1,784))\n",
    "        for idx , i in enumerate(output):\n",
    "            if torch.argmax(i)==y[idx]:\n",
    "                correct+=1\n",
    "            total+=1\n",
    "print(\"Accuracy : \", round(correct/total,3))\n",
    "    "
   ]
  },
  {
   "cell_type": "code",
   "execution_count": 13,
   "id": "9ee32528",
   "metadata": {},
   "outputs": [
    {
     "name": "stdout",
     "output_type": "stream",
     "text": [
      "tensor(4)\n"
     ]
    }
   ],
   "source": [
    "print(torch.argmax(net(X[0].view(-1,784))))"
   ]
  },
  {
   "cell_type": "code",
   "execution_count": 14,
   "id": "d1ed30b0",
   "metadata": {},
   "outputs": [
    {
     "data": {
      "text/plain": [
       "<matplotlib.image.AxesImage at 0x299b2a2dd00>"
      ]
     },
     "execution_count": 14,
     "metadata": {},
     "output_type": "execute_result"
    },
    {
     "data": {
      "image/png": "[encoded data removed]",
      "text/plain": [
       "<Figure size 640x480 with 1 Axes>"
      ]
     },
     "metadata": {},
     "output_type": "display_data"
    }
   ],
   "source": [
    "plt.imshow(X[0].view(28,28))"
   ]
  },
  {
   "cell_type": "code",
   "execution_count": 17,
   "id": "c55c38f7",
   "metadata": {},
   "outputs": [
    {
     "name": "stdout",
     "output_type": "stream",
     "text": [
      "tensor(7)\n"
     ]
    }
   ],
   "source": [
    "print(torch.argmax(net(X[4].view(-1,784))))"
   ]
  },
  {
   "cell_type": "code",
   "execution_count": 18,
   "id": "4ad21cae",
   "metadata": {},
   "outputs": [
    {
     "data": {
      "text/plain": [
       "<matplotlib.image.AxesImage at 0x299b35b9a60>"
      ]
     },
     "execution_count": 18,
     "metadata": {},
     "output_type": "execute_result"
    },
    {
     "data": {
      "image/png": "[encoded data removed]",
      "text/plain": [
       "<Figure size 640x480 with 1 Axes>"
      ]
     },
     "metadata": {},
     "output_type": "display_data"
    }
   ],
   "source": [
    "plt.imshow(X[4].view(28,28))"
   ]
  },
  {
   "cell_type": "code",
   "execution_count": null,
   "id": "7d5921a9",
   "metadata": {},
   "outputs": [],
   "source": []
  }
 ],
 "metadata": {
  "kernelspec": {
   "display_name": "Python 3 (ipykernel)",
   "language": "python",
   "name": "python3"
  },
  "language_info": {
   "codemirror_mode": {
    "name": "ipython",
    "version": 3
   },
   "file_extension": ".py",
   "mimetype": "text/x-python",
   "name": "python",
   "nbconvert_exporter": "python",
   "pygments_lexer": "ipython3",
   "version": "3.9.13"
  }
 },
 "nbformat": 4,
 "nbformat_minor": 5
}
